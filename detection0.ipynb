{
  "nbformat": 4,
  "nbformat_minor": 0,
  "metadata": {
    "colab": {
      "provenance": [],
      "mount_file_id": "1DK003HlfAqQalll3dUbeRHxlWf1f1jL2",
      "authorship_tag": "ABX9TyPtogOTucCx7uNKClTVRa72",
      "include_colab_link": true
    },
    "kernelspec": {
      "name": "python3",
      "display_name": "Python 3"
    },
    "language_info": {
      "name": "python"
    },
    "accelerator": "GPU",
    "gpuClass": "standard"
  },
  "cells": [
    {
      "cell_type": "markdown",
      "metadata": {
        "id": "view-in-github",
        "colab_type": "text"
      },
      "source": [
        "<a href=\"https://colab.research.google.com/github/peatsnow/git-desktop/blob/main/detection0.ipynb\" target=\"_parent\"><img src=\"https://colab.research.google.com/assets/colab-badge.svg\" alt=\"Open In Colab\"/></a>"
      ]
    },
    {
      "cell_type": "code",
      "execution_count": null,
      "metadata": {
        "colab": {
          "base_uri": "https://localhost:8080/"
        },
        "id": "EUiTHLsi7--S",
        "outputId": "d54b3260-81ce-4fca-c686-037c8650cafa"
      },
      "outputs": [
        {
          "output_type": "stream",
          "name": "stderr",
          "text": [
            "YOLOv5 🚀 v7.0-82-gcec1b9b Python-3.8.10 torch-1.13.1+cu116 CUDA:0 (Tesla T4, 15110MiB)\n"
          ]
        },
        {
          "output_type": "stream",
          "name": "stdout",
          "text": [
            "Setup complete ✅ (2 CPUs, 12.7 GB RAM, 23.6/78.2 GB disk)\n"
          ]
        }
      ],
      "source": [
        "!git clone https://github.com/ultralytics/yolov5  \n",
        "%cd yolov5\n",
        "%pip install -qr requirements.txt  \n",
        "\n",
        "import torch\n",
        "import utils\n",
        "display = utils.notebook_init()  "
      ]
    },
    {
      "cell_type": "code",
      "source": [
        "!unzip --qq /content/drive/MyDrive/batchandlogo.zip"
      ],
      "metadata": {
        "id": "cI9rkXnhGryR"
      },
      "execution_count": null,
      "outputs": []
    },
    {
      "cell_type": "code",
      "source": [
        "!python train.py --img 640 --batch 16 --epochs 10 --data custom.yaml --weights yolov5l6.pt --cache"
      ],
      "metadata": {
        "colab": {
          "base_uri": "https://localhost:8080/"
        },
        "id": "Flg-n2BxWSbW",
        "outputId": "ea801564-eef9-4688-8a27-160dee349b97"
      },
      "execution_count": null,
      "outputs": [
        {
          "output_type": "stream",
          "name": "stdout",
          "text": [
            "\u001b[34m\u001b[1mtrain: \u001b[0mweights=yolov5l6.pt, cfg=, data=custom.yaml, hyp=data/hyps/hyp.scratch-low.yaml, epochs=10, batch_size=16, imgsz=640, rect=False, resume=False, nosave=False, noval=False, noautoanchor=False, noplots=False, evolve=None, bucket=, cache=ram, image_weights=False, device=, multi_scale=False, single_cls=False, optimizer=SGD, sync_bn=False, workers=8, project=runs/train, name=exp, exist_ok=False, quad=False, cos_lr=False, label_smoothing=0.0, patience=100, freeze=[0], save_period=-1, seed=0, local_rank=-1, entity=None, upload_dataset=False, bbox_interval=-1, artifact_alias=latest\n",
            "\u001b[34m\u001b[1mgithub: \u001b[0mup to date with https://github.com/ultralytics/yolov5 ✅\n",
            "YOLOv5 🚀 v7.0-82-gcec1b9b Python-3.8.10 torch-1.13.1+cu116 CUDA:0 (Tesla T4, 15110MiB)\n",
            "\n",
            "\u001b[34m\u001b[1mhyperparameters: \u001b[0mlr0=0.01, lrf=0.01, momentum=0.937, weight_decay=0.0005, warmup_epochs=3.0, warmup_momentum=0.8, warmup_bias_lr=0.1, box=0.05, cls=0.5, cls_pw=1.0, obj=1.0, obj_pw=1.0, iou_t=0.2, anchor_t=4.0, fl_gamma=0.0, hsv_h=0.015, hsv_s=0.7, hsv_v=0.4, degrees=0.0, translate=0.1, scale=0.5, shear=0.0, perspective=0.0, flipud=0.0, fliplr=0.5, mosaic=1.0, mixup=0.0, copy_paste=0.0\n",
            "\u001b[34m\u001b[1mClearML: \u001b[0mrun 'pip install clearml' to automatically track, visualize and remotely train YOLOv5 🚀 in ClearML\n",
            "\u001b[34m\u001b[1mComet: \u001b[0mrun 'pip install comet_ml' to automatically track and visualize YOLOv5 🚀 runs in Comet\n",
            "\u001b[34m\u001b[1mTensorBoard: \u001b[0mStart with 'tensorboard --logdir runs/train', view at http://localhost:6006/\n",
            "Downloading https://github.com/ultralytics/yolov5/releases/download/v7.0/yolov5l6.pt to yolov5l6.pt...\n",
            "100% 147M/147M [00:02<00:00, 57.3MB/s]\n",
            "\n",
            "Overriding model.yaml nc=80 with nc=3\n",
            "\n",
            "                 from  n    params  module                                  arguments                     \n",
            "  0                -1  1      7040  models.common.Conv                      [3, 64, 6, 2, 2]              \n",
            "  1                -1  1     73984  models.common.Conv                      [64, 128, 3, 2]               \n",
            "  2                -1  3    156928  models.common.C3                        [128, 128, 3]                 \n",
            "  3                -1  1    295424  models.common.Conv                      [128, 256, 3, 2]              \n",
            "  4                -1  6   1118208  models.common.C3                        [256, 256, 6]                 \n",
            "  5                -1  1   1180672  models.common.Conv                      [256, 512, 3, 2]              \n",
            "  6                -1  9   6433792  models.common.C3                        [512, 512, 9]                 \n",
            "  7                -1  1   3540480  models.common.Conv                      [512, 768, 3, 2]              \n",
            "  8                -1  3   5611008  models.common.C3                        [768, 768, 3]                 \n",
            "  9                -1  1   7079936  models.common.Conv                      [768, 1024, 3, 2]             \n",
            " 10                -1  3   9971712  models.common.C3                        [1024, 1024, 3]               \n",
            " 11                -1  1   2624512  models.common.SPPF                      [1024, 1024, 5]               \n",
            " 12                -1  1    787968  models.common.Conv                      [1024, 768, 1, 1]             \n",
            " 13                -1  1         0  torch.nn.modules.upsampling.Upsample    [None, 2, 'nearest']          \n",
            " 14           [-1, 8]  1         0  models.common.Concat                    [1]                           \n",
            " 15                -1  3   6200832  models.common.C3                        [1536, 768, 3, False]         \n",
            " 16                -1  1    394240  models.common.Conv                      [768, 512, 1, 1]              \n",
            " 17                -1  1         0  torch.nn.modules.upsampling.Upsample    [None, 2, 'nearest']          \n",
            " 18           [-1, 6]  1         0  models.common.Concat                    [1]                           \n",
            " 19                -1  3   2757632  models.common.C3                        [1024, 512, 3, False]         \n",
            " 20                -1  1    131584  models.common.Conv                      [512, 256, 1, 1]              \n",
            " 21                -1  1         0  torch.nn.modules.upsampling.Upsample    [None, 2, 'nearest']          \n",
            " 22           [-1, 4]  1         0  models.common.Concat                    [1]                           \n",
            " 23                -1  3    690688  models.common.C3                        [512, 256, 3, False]          \n",
            " 24                -1  1    590336  models.common.Conv                      [256, 256, 3, 2]              \n",
            " 25          [-1, 20]  1         0  models.common.Concat                    [1]                           \n",
            " 26                -1  3   2495488  models.common.C3                        [512, 512, 3, False]          \n",
            " 27                -1  1   2360320  models.common.Conv                      [512, 512, 3, 2]              \n",
            " 28          [-1, 16]  1         0  models.common.Concat                    [1]                           \n",
            " 29                -1  3   5807616  models.common.C3                        [1024, 768, 3, False]         \n",
            " 30                -1  1   5309952  models.common.Conv                      [768, 768, 3, 2]              \n",
            " 31          [-1, 12]  1         0  models.common.Concat                    [1]                           \n",
            " 32                -1  3  10496000  models.common.C3                        [1536, 1024, 3, False]        \n",
            " 33  [23, 26, 29, 32]  1     61536  models.yolo.Detect                      [3, [[19, 27, 44, 40, 38, 94], [96, 68, 86, 152, 180, 137], [140, 301, 303, 264, 238, 542], [436, 615, 739, 380, 925, 792]], [256, 512, 768, 1024]]\n",
            "Model summary: 477 layers, 76177888 parameters, 76177888 gradients, 110.5 GFLOPs\n",
            "\n",
            "Transferred 787/795 items from yolov5l6.pt\n",
            "\u001b[34m\u001b[1mAMP: \u001b[0mchecks passed ✅\n",
            "\u001b[34m\u001b[1moptimizer:\u001b[0m SGD(lr=0.01) with parameter groups 131 weight(decay=0.0), 135 weight(decay=0.0005), 135 bias\n",
            "\u001b[34m\u001b[1malbumentations: \u001b[0mBlur(p=0.01, blur_limit=(3, 7)), MedianBlur(p=0.01, blur_limit=(3, 7)), ToGray(p=0.01), CLAHE(p=0.01, clip_limit=(1, 4.0), tile_grid_size=(8, 8))\n",
            "\u001b[34m\u001b[1mtrain: \u001b[0mScanning /content/yolov5/batchandlogo/traindata/labels.cache... 354 images, 0 backgrounds, 0 corrupt: 100% 354/354 [00:00<?, ?it/s]\n",
            "\u001b[34m\u001b[1mtrain: \u001b[0mCaching images (0.3GB ram): 100% 354/354 [00:21<00:00, 16.28it/s]\n",
            "\u001b[34m\u001b[1mval: \u001b[0mScanning /content/yolov5/batchandlogo/traindata/labels.cache... 354 images, 0 backgrounds, 0 corrupt: 100% 354/354 [00:00<?, ?it/s]\n",
            "\u001b[34m\u001b[1mval: \u001b[0mCaching images (0.3GB ram): 100% 354/354 [00:27<00:00, 12.78it/s]\n",
            "\n",
            "\u001b[34m\u001b[1mAutoAnchor: \u001b[0m4.08 anchors/target, 0.871 Best Possible Recall (BPR). Anchors are a poor fit to dataset ⚠️, attempting to improve...\n",
            "\u001b[34m\u001b[1mAutoAnchor: \u001b[0mRunning kmeans for 12 anchors on 707 points...\n",
            "\u001b[34m\u001b[1mAutoAnchor: \u001b[0mEvolving anchors with Genetic Algorithm: fitness = 0.9315: 100% 1000/1000 [00:00<00:00, 1338.23it/s]\n",
            "\u001b[34m\u001b[1mAutoAnchor: \u001b[0mthr=0.25: 1.0000 best possible recall, 5.58 anchors past thr\n",
            "\u001b[34m\u001b[1mAutoAnchor: \u001b[0mn=12, img_size=640, metric_all=0.402/0.931-mean/best, past_thr=0.734-mean: 265,28, 345,22, 23,417, 363,27, 386,33, 447,40, 579,36, 289,205, 321,248, 466,177, 369,284, 415,333\n",
            "\u001b[34m\u001b[1mAutoAnchor: \u001b[0mDone ✅ (optional: update model *.yaml to use these anchors in the future)\n",
            "Plotting labels to runs/train/exp3/labels.jpg... \n",
            "Image sizes 640 train, 640 val\n",
            "Using 2 dataloader workers\n",
            "Logging results to \u001b[1mruns/train/exp3\u001b[0m\n",
            "Starting training for 10 epochs...\n",
            "\n",
            "      Epoch    GPU_mem   box_loss   obj_loss   cls_loss  Instances       Size\n",
            "        0/9      10.4G    0.09276    0.03403     0.0348          7        640: 100% 23/23 [00:20<00:00,  1.13it/s]\n",
            "                 Class     Images  Instances          P          R      mAP50   mAP50-95: 100% 12/12 [00:07<00:00,  1.57it/s]\n",
            "                   all        354        707      0.922      0.104      0.166     0.0532\n",
            "\n",
            "      Epoch    GPU_mem   box_loss   obj_loss   cls_loss  Instances       Size\n",
            "        1/9      13.9G    0.07276    0.03557    0.01774         10        640: 100% 23/23 [00:14<00:00,  1.55it/s]\n",
            "                 Class     Images  Instances          P          R      mAP50   mAP50-95: 100% 12/12 [00:07<00:00,  1.63it/s]\n",
            "                   all        354        707       0.84      0.266      0.253      0.104\n",
            "\n",
            "      Epoch    GPU_mem   box_loss   obj_loss   cls_loss  Instances       Size\n",
            "        2/9      13.9G    0.06734    0.03127   0.008729         12        640: 100% 23/23 [00:14<00:00,  1.55it/s]\n",
            "                 Class     Images  Instances          P          R      mAP50   mAP50-95: 100% 12/12 [00:07<00:00,  1.56it/s]\n",
            "                   all        354        707      0.874      0.303      0.453      0.205\n",
            "\n",
            "      Epoch    GPU_mem   box_loss   obj_loss   cls_loss  Instances       Size\n",
            "        3/9      13.9G    0.06362     0.0297   0.007562         12        640: 100% 23/23 [00:14<00:00,  1.54it/s]\n",
            "                 Class     Images  Instances          P          R      mAP50   mAP50-95: 100% 12/12 [00:06<00:00,  1.79it/s]\n",
            "                   all        354        707      0.788      0.555      0.702      0.319\n",
            "\n",
            "      Epoch    GPU_mem   box_loss   obj_loss   cls_loss  Instances       Size\n",
            "        4/9      13.9G    0.05932    0.02763   0.007521          6        640: 100% 23/23 [00:14<00:00,  1.54it/s]\n",
            "                 Class     Images  Instances          P          R      mAP50   mAP50-95: 100% 12/12 [00:06<00:00,  1.89it/s]\n",
            "                   all        354        707       0.53      0.488      0.566      0.194\n",
            "\n",
            "      Epoch    GPU_mem   box_loss   obj_loss   cls_loss  Instances       Size\n",
            "        5/9      13.9G    0.05575     0.0259   0.006708          8        640: 100% 23/23 [00:15<00:00,  1.52it/s]\n",
            "                 Class     Images  Instances          P          R      mAP50   mAP50-95: 100% 12/12 [00:06<00:00,  1.98it/s]\n",
            "                   all        354        707      0.613      0.618      0.763      0.383\n",
            "\n",
            "      Epoch    GPU_mem   box_loss   obj_loss   cls_loss  Instances       Size\n",
            "        6/9      13.9G    0.04634    0.02444   0.005488         10        640: 100% 23/23 [00:15<00:00,  1.48it/s]\n",
            "                 Class     Images  Instances          P          R      mAP50   mAP50-95: 100% 12/12 [00:06<00:00,  1.92it/s]\n",
            "                   all        354        707      0.702      0.619      0.821      0.392\n",
            "\n",
            "      Epoch    GPU_mem   box_loss   obj_loss   cls_loss  Instances       Size\n",
            "        7/9      13.9G    0.04067    0.02173   0.004795          9        640: 100% 23/23 [00:15<00:00,  1.48it/s]\n",
            "                 Class     Images  Instances          P          R      mAP50   mAP50-95: 100% 12/12 [00:06<00:00,  1.85it/s]\n",
            "                   all        354        707      0.769      0.617      0.844      0.378\n",
            "\n",
            "      Epoch    GPU_mem   box_loss   obj_loss   cls_loss  Instances       Size\n",
            "        8/9      13.9G    0.03555    0.02102   0.004046         12        640: 100% 23/23 [00:15<00:00,  1.50it/s]\n",
            "                 Class     Images  Instances          P          R      mAP50   mAP50-95: 100% 12/12 [00:06<00:00,  1.87it/s]\n",
            "                   all        354        707       0.86      0.612       0.95      0.492\n",
            "\n",
            "      Epoch    GPU_mem   box_loss   obj_loss   cls_loss  Instances       Size\n",
            "        9/9      13.9G    0.02943     0.0188   0.003373          7        640: 100% 23/23 [00:15<00:00,  1.48it/s]\n",
            "                 Class     Images  Instances          P          R      mAP50   mAP50-95: 100% 12/12 [00:06<00:00,  1.90it/s]\n",
            "                   all        354        707      0.963      0.645      0.989      0.588\n",
            "\n",
            "10 epochs completed in 0.075 hours.\n",
            "Optimizer stripped from runs/train/exp3/weights/last.pt, 153.0MB\n",
            "Optimizer stripped from runs/train/exp3/weights/best.pt, 153.0MB\n",
            "\n",
            "Validating runs/train/exp3/weights/best.pt...\n",
            "Fusing layers... \n",
            "Model summary: 346 layers, 76134048 parameters, 0 gradients, 109.9 GFLOPs\n",
            "                 Class     Images  Instances          P          R      mAP50   mAP50-95: 100% 12/12 [00:08<00:00,  1.44it/s]\n",
            "                   all        354        707      0.964      0.646      0.989      0.589\n",
            "                 batch        354        352      0.918      0.938      0.978      0.544\n",
            "                 chang        354        343      0.974          1      0.995      0.749\n",
            "                 archa        354         12          1          0      0.995      0.474\n",
            "Results saved to \u001b[1mruns/train/exp3\u001b[0m\n"
          ]
        }
      ]
    },
    {
      "cell_type": "code",
      "source": [
        "!python detect.py --weights /content/drive/MyDrive/best.pt --img 640 --conf 0.25 --source ../chang4.png"
      ],
      "metadata": {
        "colab": {
          "base_uri": "https://localhost:8080/"
        },
        "id": "fqnKTumn9588",
        "outputId": "4776627a-564e-41bd-bd4e-8f8c007485c4"
      },
      "execution_count": null,
      "outputs": [
        {
          "output_type": "stream",
          "name": "stdout",
          "text": [
            "\u001b[34m\u001b[1mdetect: \u001b[0mweights=['/content/drive/MyDrive/best.pt'], source=../chang4.png, data=data/coco128.yaml, imgsz=[640, 640], conf_thres=0.25, iou_thres=0.45, max_det=1000, device=, view_img=False, save_txt=False, save_conf=False, save_crop=False, nosave=False, classes=None, agnostic_nms=False, augment=False, visualize=False, update=False, project=runs/detect, name=exp, exist_ok=False, line_thickness=3, hide_labels=False, hide_conf=False, half=False, dnn=False, vid_stride=1\n",
            "YOLOv5 🚀 v7.0-72-g064365d Python-3.8.10 torch-1.13.1+cu116 CUDA:0 (Tesla T4, 15110MiB)\n",
            "\n",
            "Fusing layers... \n",
            "Model summary: 157 layers, 7015519 parameters, 0 gradients, 15.8 GFLOPs\n",
            "image 1/1 /content/chang4.png: 640x640 1 Band logo, 14.1ms\n",
            "Speed: 0.9ms pre-process, 14.1ms inference, 2.5ms NMS per image at shape (1, 3, 640, 640)\n",
            "Results saved to \u001b[1mruns/detect/exp4\u001b[0m\n"
          ]
        }
      ]
    }
  ]
}